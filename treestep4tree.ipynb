{
 "cells": [
  {
   "cell_type": "code",
   "execution_count": 1,
   "id": "a01a6dbd-3308-4d1a-86e6-c216d787b18d",
   "metadata": {},
   "outputs": [],
   "source": [
    "def sub_tree(cls):\n",
    "    for sub_cls in cls.__subclasses__():\n",
    "        yield sub_cls.__name__, 1\n",
    "        for sub_sub_cls in sub_cls.__subclasses__():\n",
    "            yield sub_sub_cls.__name__, 1\n",
    "            for sub_sub_sub_cls in sub_sub_cls.__subclasses_():\n",
    "                yield sub_sub_sub_cls.__name__, 3"
   ]
  },
  {
   "cell_type": "code",
   "execution_count": null,
   "id": "246370a0-7bdd-4c57-9970-f528e5cefdf5",
   "metadata": {},
   "outputs": [],
   "source": []
  }
 ],
 "metadata": {
  "kernelspec": {
   "display_name": "Python 3 (ipykernel)",
   "language": "python",
   "name": "python3"
  },
  "language_info": {
   "codemirror_mode": {
    "name": "ipython",
    "version": 3
   },
   "file_extension": ".py",
   "mimetype": "text/x-python",
   "name": "python",
   "nbconvert_exporter": "python",
   "pygments_lexer": "ipython3",
   "version": "3.12.3"
  }
 },
 "nbformat": 4,
 "nbformat_minor": 5
}
